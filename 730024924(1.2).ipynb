{
 "cells": [
  {
   "cell_type": "code",
   "execution_count": 21,
   "id": "47aad800-220e-439c-b385-db4ba5742c92",
   "metadata": {},
   "outputs": [
    {
     "name": "stdout",
     "output_type": "stream",
     "text": [
      "Overwriting index.html\n"
     ]
    }
   ],
   "source": [
    "%%writefile index.html\n",
    "<!DOCTYPE html>\n",
    "<html lang=\"en\">\n",
    "<head>\n",
    "    <meta charset=\"UTF-8\">\n",
    "    <meta name=\"viewport\" content=\"width=device-width, initial-scale=1.0\">\n",
    "    <title>My Crypto Wallet</title>\n",
    "    <link rel=\"stylesheet\" href=\"styles.css\"> <!-- Link to CSS File -->\n",
    "</head>\n",
    "<body>\n",
    "    <div class=\"wallet-container\">\n",
    "        <h2>My Crypto Wallet</h2>\n",
    "        <p><strong>Bitcoin Address:</strong> <a href=\"\" id=\"address\" target=\"_blank\">Generating...</a></p>\n",
    "        <div class=\"qr-code\">\n",
    "            <canvas id=\"qr-code\"></canvas>\n",
    "        </div>\n",
    "        <div class=\"price-container\" id=\"crypto-prices\">\n",
    "            <p>Loading cryptocurrency prices...</p>\n",
    "        </div>\n",
    "    </div>\n",
    "\n",
    "    <script src=\"https://cdnjs.cloudflare.com/ajax/libs/elliptic/6.5.4/elliptic.min.js\"></script>\n",
    "    <script src=\"https://cdnjs.cloudflare.com/ajax/libs/crypto-js/4.1.1/crypto-js.min.js\"></script>\n",
    "    <script src=\"https://cdnjs.cloudflare.com/ajax/libs/qrcode/1.4.4/qrcode.min.js\"></script>\n",
    "    <script src=\"script.js\"></script> <!-- Link to JavaScript File -->\n",
    "</body>\n",
    "</html>\n"
   ]
  },
  {
   "cell_type": "code",
   "execution_count": 22,
   "id": "76ce2c1f-02dd-44aa-8236-0f2947f1e5cd",
   "metadata": {},
   "outputs": [
    {
     "name": "stdout",
     "output_type": "stream",
     "text": [
      "Overwriting styles.css\n"
     ]
    }
   ],
   "source": [
    "%%writefile styles.css\n",
    "/* styles.css */\n",
    "\n",
    "body {\n",
    "    font-family: Arial, sans-serif;\n",
    "    text-align: center;\n",
    "    padding: 30px;\n",
    "    background-color: #f4f4f4;\n",
    "}\n",
    "\n",
    "h2 {\n",
    "    color: #333;\n",
    "}\n",
    "\n",
    ".wallet-container {\n",
    "    display: flex;\n",
    "    justify-content: center;\n",
    "    flex-direction: column;\n",
    "    align-items: center;\n",
    "}\n",
    "\n",
    ".wallet-container p {\n",
    "    font-size: 18px;\n",
    "}\n",
    "\n",
    ".qr-code {\n",
    "    margin-top: 20px;\n",
    "}\n",
    "\n",
    ".price-container {\n",
    "    margin-top: 40px;\n",
    "    background-color: #333;\n",
    "    color: white;\n",
    "    padding: 10px;\n",
    "    border-radius: 5px;\n",
    "}\n"
   ]
  },
  {
   "cell_type": "code",
   "execution_count": 23,
   "id": "2ce9dc81-3db0-4548-969d-b96ef765fdef",
   "metadata": {},
   "outputs": [
    {
     "name": "stdout",
     "output_type": "stream",
     "text": [
      "Overwriting script.js\n"
     ]
    }
   ],
   "source": [
    "%%writefile script.js\n",
    "// script.js\n",
    "\n",
    "document.addEventListener(\"DOMContentLoaded\", async () => {\n",
    "    // Initialize elliptic library for key generation (SECP256k1 curve)\n",
    "    const EC = elliptic.ec;\n",
    "    const ec = new EC('secp256k1');\n",
    "    const keyPair = ec.genKeyPair();\n",
    "\n",
    "    // Generate the private key in hexadecimal format\n",
    "    const privateKey = keyPair.getPrivate('hex');\n",
    "    // Generate the public key in hexadecimal format\n",
    "    const publicKey = keyPair.getPublic('hex');\n",
    "\n",
    "    // Generate the Bitcoin address from the public key\n",
    "    const sha256 = CryptoJS.SHA256(CryptoJS.enc.Hex.parse(publicKey));\n",
    "    const ripemd160 = CryptoJS.RIPEMD160(sha256);\n",
    "    const address = ripemd160.toString(CryptoJS.enc.Base58);\n",
    "\n",
    "    // Set the Bitcoin address as a clickable link\n",
    "    const addressLink = `https://www.coingecko.com/en/coins/bitcoin`; // URL to the Bitcoin page on CoinGecko\n",
    "    document.getElementById(\"address\").textContent = address;\n",
    "    document.getElementById(\"address\").setAttribute(\"href\", addressLink);\n",
    "\n",
    "    // Generate the QR code for the Bitcoin address\n",
    "    QRCode.toCanvas(document.getElementById(\"qr-code\"), address, {\n",
    "        width: 150,\n",
    "    }, function(error) {\n",
    "        if (error) console.error(error);\n",
    "        console.log('QR code generated!');\n",
    "    });\n",
    "\n",
    "    // Fetch live cryptocurrency prices from a public API\n",
    "    const cryptoPrices = await fetch(\"https://api.coingecko.com/api/v3/simple/price?ids=bitcoin,ethereum&vs_currencies=usd\")\n",
    "        .then(response => response.json())\n",
    "        .catch(error => console.error('Error fetching prices:', error));\n",
    "\n",
    "    // Display the fetched cryptocurrency prices\n",
    "    const bitcoinPrice = cryptoPrices?.bitcoin?.usd || \"N/A\";\n",
    "    const ethereumPrice = cryptoPrices?.ethereum?.usd || \"N/A\";\n",
    "\n",
    "    document.getElementById(\"crypto-prices\").innerHTML = `\n",
    "        <p><strong>Bitcoin (BTC):</strong> $${bitcoinPrice}</p>\n",
    "        <p><strong>Ethereum (ETH):</strong> $${ethereumPrice}</p>\n",
    "    `;\n",
    "});\n"
   ]
  },
  {
   "cell_type": "code",
   "execution_count": 15,
   "id": "e27f56d2-2772-455e-a485-126cfc08da58",
   "metadata": {},
   "outputs": [
    {
     "name": "stdout",
     "output_type": "stream",
     "text": [
      "Collecting ecdsa\n",
      "  Downloading ecdsa-0.19.0-py2.py3-none-any.whl.metadata (29 kB)\n",
      "Requirement already satisfied: six>=1.9.0 in /opt/anaconda3/lib/python3.12/site-packages (from ecdsa) (1.16.0)\n",
      "Downloading ecdsa-0.19.0-py2.py3-none-any.whl (149 kB)\n",
      "Installing collected packages: ecdsa\n",
      "Successfully installed ecdsa-0.19.0\n"
     ]
    }
   ],
   "source": [
    "!pip install ecdsa"
   ]
  },
  {
   "cell_type": "code",
   "execution_count": null,
   "id": "7be9f7ff-07ee-40bc-9481-2480cab16c52",
   "metadata": {},
   "outputs": [],
   "source": []
  }
 ],
 "metadata": {
  "kernelspec": {
   "display_name": "Python 3 (ipykernel)",
   "language": "python",
   "name": "python3"
  },
  "language_info": {
   "codemirror_mode": {
    "name": "ipython",
    "version": 3
   },
   "file_extension": ".py",
   "mimetype": "text/x-python",
   "name": "python",
   "nbconvert_exporter": "python",
   "pygments_lexer": "ipython3",
   "version": "3.12.7"
  }
 },
 "nbformat": 4,
 "nbformat_minor": 5
}
